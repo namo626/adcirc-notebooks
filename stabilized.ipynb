{
 "cells": [
  {
   "cell_type": "markdown",
   "id": "fff8ac9d-d97a-430b-aa27-4c2088ced4ca",
   "metadata": {
    "editable": true,
    "slideshow": {
     "slide_type": ""
    },
    "tags": []
   },
   "source": [
    "# Stabilized DG-CG formulation\n",
    "$ \\newcommand{\\area}[2]{\\left \\langle #1, #2 \\right \\rangle_{\\Omega}} $\n",
    "$ \\newcommand{\\edge}[2]{\\left \\langle #1, #2 \\right \\rangle_{\\gamma_i}} $\n",
    "$ \\newcommand{dx}[1]{\\frac{\\partial #1}{\\partial x}} $\n",
    "$ \\newcommand{dy}[1]{\\frac{\\partial #1}{\\partial y}} $ \n",
    "$ \\newcommand{dt}[1]{\\frac{\\partial #1}{\\partial t}} $\n",
    "\n",
    "Instead of performing nodal average of DG water elevation, we can solve for continuous momentum directly using the discontinuous momentum solution as in [Clint's and Jennifer's 2002 paper](https://paperpile.com/shared/83RGm3). "
   ]
  },
  {
   "cell_type": "markdown",
   "id": "2834b4e6-8dfd-4733-a710-e0d1c7136922",
   "metadata": {
    "editable": true,
    "slideshow": {
     "slide_type": ""
    },
    "tags": []
   },
   "source": [
    "Their momentum formulation is \n",
    "\n",
    "$$\\area{\\dt{u}}{\\phi_j} + \\area{g \\dx{\\zeta}}{\\phi_j} - \\sum_i \\edge{g [\\zeta]}{\\phi_j n_i} = \\area{f_x}{\\phi_j}$$"
   ]
  },
  {
   "cell_type": "markdown",
   "id": "a461e795-0aba-4144-853a-041e4670a071",
   "metadata": {
    "editable": true,
    "slideshow": {
     "slide_type": ""
    },
    "tags": []
   },
   "source": [
    "where \n",
    "\n",
    "$$\\sum_i \\edge{g [\\zeta]}{\\phi_j n_i} = \\sum_i \\edge{g (\\zeta^- - \\zeta^+)}{\\phi_j n_i}$$\n",
    "\n",
    "is the stabilization term which penalizes jumps in water elevation."
   ]
  },
  {
   "cell_type": "markdown",
   "id": "5c455b61-8e30-4dbb-be62-75b72882f873",
   "metadata": {
    "editable": true,
    "slideshow": {
     "slide_type": ""
    },
    "tags": []
   },
   "source": [
    "## Implementation details"
   ]
  },
  {
   "cell_type": "markdown",
   "id": "75ff3f31-5fb4-430c-b1ac-2448473f01c2",
   "metadata": {
    "editable": true,
    "slideshow": {
     "slide_type": ""
    },
    "tags": []
   },
   "source": [
    "To compute the stabilization term, we can loop through the internal edges (as in `internal_edge_hydro.F`), and then add the integral to the RHS of each of the 2 nodes connected to that edge. In the following, we consider interior edge $i$ connected to nodes $k = 1,2$:\n",
    "\n",
    "$$ \n",
    "\\begin{align}\n",
    "\\edge{g [\\zeta]}{\\phi_k} &= g \\int_{\\gamma_i} [\\zeta] \\phi_k \\; ds \\\\\n",
    "&\\approx  g [\\bar{\\zeta}]  \\int_{\\gamma_i} \\phi_k \\; ds \\\\\n",
    "&=  g [\\bar{\\zeta}] \\cdot  \\frac{1}{2} L_i\n",
    "\\end{align}\n",
    "$$\n",
    "\n",
    "where $L_i$ is the edge length of $\\gamma_i$. The average of jumps (or jump of averages) of water elevation across the edge can be computed using the DG Gaussian quadrature points. Note that we need to multiply this by 3 in ADCIRC due to the 1/3 term in the lumped quadrature of $\\partial u / \\partial t$."
   ]
  },
  {
   "cell_type": "markdown",
   "id": "ce3679fb-3f93-4bb0-a7be-e1780f82daaa",
   "metadata": {
    "editable": true,
    "slideshow": {
     "slide_type": ""
    },
    "tags": []
   },
   "source": [
    "```fortran\n",
    "DO L = NIEDS\n",
    "\n",
    "    GED = NIEDN(L)\n",
    "    NM1 = NEDNO(1,GED)\n",
    "    NM2 = NEDNO(2,GED)\n",
    "\n",
    "    ZE_IN_TOTAL = 0\n",
    "    ZE_EX_TOTAL = 0\n",
    "    \n",
    "    DO I = 1, NEGP\n",
    "        ZE_IN = 0\n",
    "        ZE_EX = 0\n",
    "        DO K = 1, 3\n",
    "            ZE_IN = ZE_IN + ZE(K,EL_IN,IRK)*PHI_EDGE(K,GP_IN,LED_IN,pa)\n",
    "            ZE_EX = ZE_EX + ZE(K,EL_EX,IRK)*PHI_EDGE(K,GP_EX,LED_EX,pa)\n",
    "        END DO\n",
    "\n",
    "        ZE_IN_TOTAL = ZE_IN_TOTAL + ZE_IN\n",
    "        ZE_EX_TOTAL = ZE_EX_TOTAL + ZE_EX\n",
    "    END DO\n",
    "\n",
    "    ZE_IN_AVG = ZE_IN_TOTAL / NEGP\n",
    "    ZE_EX_AVG = ZE_EX_TOTAL / NEGP\n",
    "    JUMP = ZE_EX_AVG - ZE_IN_AVG\n",
    "\n",
    "    integral = 3 * G*JUMP * 0.5 * XLEN(GED)\n",
    "    \n",
    "    MOM_LV_X(NM1) += integral\n",
    "    MOM_LV_X(NM2) += integral\n",
    "    \n",
    "    MOM_LV_Y(NM1) += integral\n",
    "    MOM_LV_Y(NM2) += integral\n",
    "\n",
    "END DO\n",
    "```"
   ]
  },
  {
   "cell_type": "code",
   "execution_count": null,
   "id": "8a7a3b40-be0c-498c-94a5-d0fb5cca4b38",
   "metadata": {
    "editable": true,
    "slideshow": {
     "slide_type": ""
    },
    "tags": []
   },
   "outputs": [],
   "source": []
  }
 ],
 "metadata": {
  "kernelspec": {
   "display_name": "Python 3 (ipykernel)",
   "language": "python",
   "name": "python3"
  },
  "language_info": {
   "codemirror_mode": {
    "name": "ipython",
    "version": 3
   },
   "file_extension": ".py",
   "mimetype": "text/x-python",
   "name": "python",
   "nbconvert_exporter": "python",
   "pygments_lexer": "ipython3",
   "version": "3.12.2"
  }
 },
 "nbformat": 4,
 "nbformat_minor": 5
}
