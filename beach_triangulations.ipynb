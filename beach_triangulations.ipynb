{
 "cells": [
  {
   "cell_type": "markdown",
   "id": "46ca8a0e-3e92-4911-ac24-e96bf6ddcf47",
   "metadata": {
    "editable": true,
    "slideshow": {
     "slide_type": ""
    },
    "tags": []
   },
   "source": [
    "# Testing the sloping beach case with different mesh triangulations\n",
    "\n",
    "The script provided by Ethan is `trirectangle.m`. This will be used to create a mesh obj using OceanMesh2D and then written to fort.14 and fort.15"
   ]
  },
  {
   "cell_type": "code",
   "execution_count": 1,
   "id": "92fc86b3-1be9-476c-af2b-7666eaad4ac1",
   "metadata": {},
   "outputs": [],
   "source": [
    "import pandas as pd\n",
    "import numpy as np\n",
    "from utils_beach import *\n",
    "import matplotlib.tri as tri\n",
    "import matplotlib.pyplot as plt\n",
    "from ipywidgets import interact\n",
    "import ipywidgets as widgets\n",
    "\n",
    "%load_ext autoreload\n",
    "%autoreload 2"
   ]
  },
  {
   "cell_type": "markdown",
   "id": "fc71da1a-8f2b-4968-ab23-d89dc539636b",
   "metadata": {},
   "source": [
    "## Original triangulation\n",
    "\n",
    "This is the original, asymmetrical mesh that DG-CG shows spurious oscillations."
   ]
  },
  {
   "cell_type": "code",
   "execution_count": 2,
   "id": "f1d257b7-720f-40c2-8aed-acf27b24243a",
   "metadata": {
    "editable": true,
    "slideshow": {
     "slide_type": ""
    },
    "tags": []
   },
   "outputs": [
    {
     "name": "stderr",
     "output_type": "stream",
     "text": [
      "/home/namo/Programs/adcirc-cg/continuity_tests/utils_beach.py:14: FutureWarning: The 'delim_whitespace' keyword in pd.read_csv is deprecated and will be removed in a future version. Use ``sep='\\s+'`` instead\n",
      "  df = pd.read_csv(fname, delim_whitespace=True, names=list('abcde'),on_bad_lines='skip')\n",
      "/home/namo/Programs/adcirc-cg/continuity_tests/utils_beach.py:37: FutureWarning: The 'delim_whitespace' keyword in pd.read_csv is deprecated and will be removed in a future version. Use ``sep='\\s+'`` instead\n",
      "  df = pd.read_csv(fname, skiprows=2, delim_whitespace=True, index_col=False, header=None, names=list('abc'))\n"
     ]
    },
    {
     "data": {
      "application/vnd.jupyter.widget-view+json": {
       "model_id": "cfd9abe07bab4471a7f936f39ad8ffc5",
       "version_major": 2,
       "version_minor": 0
      },
      "text/plain": [
       "interactive(children=(IntSlider(value=0, description='frame', max=210), Output()), _dom_classes=('widget-inter…"
      ]
     },
     "metadata": {},
     "output_type": "display_data"
    },
    {
     "data": {
      "text/plain": [
       "<function utils_beach.make_tri_plot_function.<locals>.f(frame=0)>"
      ]
     },
     "execution_count": 2,
     "metadata": {},
     "output_type": "execute_result"
    }
   ],
   "source": [
    "tr = read_triangulation('Beach/fort.14')\n",
    "f = make_tri_plot_function(tr, 'Beach/fort.63.coupling')\n",
    "interact(f, frame=widgets.IntSlider(min=0, max=210, step=1, value=0))"
   ]
  },
  {
   "cell_type": "markdown",
   "id": "efa90b05-1997-4878-bc18-8cd6ec79a282",
   "metadata": {},
   "source": [
    "## Equi triangulation"
   ]
  },
  {
   "cell_type": "code",
   "execution_count": 16,
   "id": "8b8a9fe1-73e4-4023-b403-d6f67342d69d",
   "metadata": {},
   "outputs": [
    {
     "data": {
      "application/vnd.jupyter.widget-view+json": {
       "model_id": "e9c8d576c5934050b7e8bc1701d62d56",
       "version_major": 2,
       "version_minor": 0
      },
      "text/plain": [
       "interactive(children=(IntSlider(value=0, description='frame', max=210), Output()), _dom_classes=('widget-inter…"
      ]
     },
     "metadata": {},
     "output_type": "display_data"
    },
    {
     "data": {
      "text/plain": [
       "<function utils_beach.make_tri_plot_function.<locals>.f(frame=0)>"
      ]
     },
     "execution_count": 16,
     "metadata": {},
     "output_type": "execute_result"
    }
   ],
   "source": [
    "tr = read_triangulation('BeachX/fort.14')\n",
    "f = make_tri_plot_function(tr, 'BeachX/fort.63.coupling')\n",
    "interact(f, frame=widgets.IntSlider(min=0, max=210, step=1, value=0))"
   ]
  },
  {
   "cell_type": "code",
   "execution_count": null,
   "id": "1a992df9-4d0c-4667-b140-273f994e2a09",
   "metadata": {},
   "outputs": [],
   "source": []
  }
 ],
 "metadata": {
  "kernelspec": {
   "display_name": "Python 3 (ipykernel)",
   "language": "python",
   "name": "python3"
  },
  "language_info": {
   "codemirror_mode": {
    "name": "ipython",
    "version": 3
   },
   "file_extension": ".py",
   "mimetype": "text/x-python",
   "name": "python",
   "nbconvert_exporter": "python",
   "pygments_lexer": "ipython3",
   "version": "3.12.2"
  }
 },
 "nbformat": 4,
 "nbformat_minor": 5
}
