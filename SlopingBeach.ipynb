{
 "cells": [
  {
   "cell_type": "markdown",
   "id": "feffd9ec-ce81-437e-8811-ab2662b5a3b2",
   "metadata": {
    "editable": true,
    "slideshow": {
     "slide_type": ""
    },
    "tags": []
   },
   "source": [
    "# Sloping Beach test case\n",
    "\n",
    "The DG-CG code suffers from oscillations which appear to follow the orientation of the mesh. We will plot the cross-section elevation over time and see where the oscillation originates.\n",
    "\n",
    "The current configuration is 7 cells wide, with numbering as follows:\n",
    "\n",
    "\n",
    "| | | | | | |\n",
    "|---|---|---|---|---|---|\n",
    "| 2 | 72 | 142 | 212 | ... | 492 |\n",
    "| 1  | 71 | 141 | 211 | ... | 491 |\n",
    "\n",
    "In other words, the increment is 70 along a row, and 1 along a column.\n",
    "\n",
    "To generate this mesh, run\n",
    "\n",
    "    python slopingbeach.py 10000 fort.14\n",
    "\n",
    "and then rename `fort.14.15` to `fort.15`.\n",
    "\n",
    "To run the various configurations (ADCIRC, ADCIRC-DG, etc.), go into the `Beach` directory and use the makefile."
   ]
  },
  {
   "cell_type": "markdown",
   "id": "4c05d215-553b-4b8c-86f2-64890e3151d4",
   "metadata": {},
   "source": [
    "## Extracting data from fort.63\n",
    "\n",
    "For this test case, we will only look at the x- and y-direction nodes. If looking at x-profile, specify the `row` variable with a value from 1 to 70. If looking at the y-profile, the `col` variable can be 1, 71, ..., 491.\n",
    "\n",
    "We will use the function `read_63()` to extract the time series data of those nodes."
   ]
  },
  {
   "cell_type": "code",
   "execution_count": null,
   "id": "c2ca5079-fcb8-4218-ace9-98f7e25db2d0",
   "metadata": {},
   "outputs": [],
   "source": [
    "import pandas as pd\n",
    "import numpy as np\n",
    "import matplotlib.pyplot as plt\n",
    "import matplotlib.animation as animation\n",
    "from utils_beach import *\n",
    "from ipywidgets import interact\n",
    "import ipywidgets as widgets\n",
    "%matplotlib inline\n",
    "%load_ext autoreload\n",
    "%autoreload 2\n"
   ]
  },
  {
   "cell_type": "markdown",
   "id": "51ba8c18-939d-4d7f-a53b-60a6111622bd",
   "metadata": {},
   "source": [
    "### Case 1: DG-CG creating spurious oscillations\n",
    "\n",
    "This case compares ADCIRC with ADCIRC-DG. To generate the fort.63 files, run\n",
    "\n",
    "    make adc-serial\n",
    "    make coupling-serial\n",
    "\n",
    "and load the data using the cell above."
   ]
  },
  {
   "cell_type": "code",
   "execution_count": null,
   "id": "396f13dd-05c7-42ff-9bc7-9766651dc0b4",
   "metadata": {
    "editable": true,
    "slideshow": {
     "slide_type": ""
    },
    "tags": [
     "full-width"
    ]
   },
   "outputs": [],
   "source": [
    "row = 2\n",
    "col = 211\n",
    "NP = 560 # no. of nodes\n",
    "\n",
    "N = 8 # no. of nodes in the x-direction\n",
    "M = 70 # no. of nodes in the y-direction\n",
    "cross_nodes = [row + M*i for i in range(0,N)]\n",
    "y_nodes = [col + i for i in range(M)]\n",
    "y_adg = read_63('./Beach/fort.63.coupling', y_nodes, total_nodes=NP)\n",
    "y_adc = read_63('./Beach/fort.63.adc', y_nodes, total_nodes=NP)\n",
    "\n",
    "v_adg = read_63('./Beach/fort.64.coupling', y_nodes, total_nodes=NP, col=2)\n",
    "v_adc = read_63('./Beach/fort.64.adc', y_nodes, total_nodes=NP, col=2)\n",
    "data1 = {\n",
    "        \"ADCIRC\": y_adc,\n",
    "        \"DG-CG\": y_adg\n",
    "       }\n",
    "\n",
    "data2 = {\n",
    "    \"ADCIRC\": v_adc,\n",
    "    \"DG-CG\": v_adg\n",
    "}\n",
    "data_list = [data1, data2]\n",
    "ani = animate63(data_list, node_list=y_nodes, ylabel=['Water elevation', 'y-velocity'])\n",
    "HTML(ani.to_jshtml())"
   ]
  },
  {
   "cell_type": "markdown",
   "id": "7d0d0e34-c11f-4cd9-ad89-bbb9c4675d73",
   "metadata": {},
   "source": [
    "#### Cross-section view"
   ]
  },
  {
   "cell_type": "code",
   "execution_count": null,
   "id": "8d87049c-59cc-46d2-8195-ef0959dcde8b",
   "metadata": {
    "editable": true,
    "slideshow": {
     "slide_type": ""
    },
    "tags": [
     "full-width"
    ]
   },
   "outputs": [],
   "source": [
    "row = 2\n",
    "col = 211\n",
    "NP = 560 # no. of nodes\n",
    "N = 8 # no. of nodes in the x-direction\n",
    "M = 70 # no. of nodes in the y-direction\n",
    "y_nodes = [row + M*i for i in range(0,N)]\n",
    "y_adg = read_63('./Beach/fort.63.coupling', y_nodes, total_nodes=NP)\n",
    "y_adc = read_63('./Beach/fort.63.adc', y_nodes, total_nodes=NP)\n",
    "\n",
    "v_adg = read_63('./Beach/fort.64.coupling', y_nodes, total_nodes=NP, col=1)\n",
    "v_adc = read_63('./Beach/fort.64.adc', y_nodes, total_nodes=NP, col=1)\n",
    "data1 = {\n",
    "        \"ADCIRC\": y_adc,\n",
    "        \"DG-CG\": y_adg\n",
    "       }\n",
    "\n",
    "data2 = {\n",
    "    \"ADCIRC\": v_adc,\n",
    "    \"DG-CG\": v_adg\n",
    "}\n",
    "data_list = [data1, data2]\n",
    "ani = animate63(data_list, node_list=y_nodes, ylabel=['Water elevation', 'x-velocity'], title='x-direction profile')\n",
    "HTML(ani.to_jshtml())"
   ]
  },
  {
   "cell_type": "markdown",
   "id": "a8ef5618-c4b9-4fd7-bec7-dff6fad9519a",
   "metadata": {
    "editable": true,
    "slideshow": {
     "slide_type": ""
    },
    "tags": []
   },
   "source": [
    "### Case 2: isolated DG elevation\n",
    "\n",
    "In this case, we run the program using ADCIRC. The DG solver then solves for elevation alongside it using velocities from `solveMomentumEq()`, but does not feed it back to it in the next timestep. This case is done to investigate if DG produces incorrect elevation despite using the correct velocities. Instead, the DG elevation values are stored in `ETA3`.\n",
    "\n",
    "To run, use \n",
    "\n",
    "    make eta3\n",
    "\n",
    "which then calls the program with `--solver 10`. This option prints out values of `ETA3` instead of `ETA2` to the fort.63 file."
   ]
  },
  {
   "cell_type": "code",
   "execution_count": null,
   "id": "0f3405ca-0a14-4bcd-94e2-40ee18ce7341",
   "metadata": {},
   "outputs": [],
   "source": [
    "row = 2\n",
    "col = 211\n",
    "NP = 560 # no. of nodes\n",
    "N = 8 # no. of nodes in the x-direction\n",
    "M = 70 # no. of nodes in the y-direction\n",
    "\n",
    "cross_nodes = [row + M*i for i in range(0,N)]\n",
    "y_nodes = [col + i for i in range(M)]\n",
    "\n",
    "y_adc = read_63('Beach/fort.63.adc', y_nodes, total_nodes=NP)\n",
    "y_eta3 = read_63('Beach/fort.63.eta3', y_nodes, total_nodes=NP)\n",
    "v_eta3 = read_63('Beach/fort.64.eta3', y_nodes, total_nodes=NP, col=2)\n",
    "\n",
    "data1 = {\n",
    "        \"ADCIRC\": y_adc,\n",
    "        \"DG isolated elevation\": y_eta3\n",
    "       }\n",
    "data2 = {\n",
    "    \"ADCIRC\" : v_eta3\n",
    "}\n",
    "\n",
    "data_list = [data1, data2]\n",
    "f = make_plot_function(data_list, node_list=y_nodes, ylabel=['Water elevation', 'y-velocity'])\n",
    "interact(f, frame=widgets.IntSlider(min=0, max=int(len(y_adc)/len(y_nodes))-1, step=1, value=0))"
   ]
  },
  {
   "cell_type": "markdown",
   "id": "cee60436-b4be-479b-bf28-caacada577b5",
   "metadata": {},
   "source": [
    "### Case 3: Constant bathymetry\n",
    "\n",
    "Here we used the command\n",
    "\n",
    "    python --bathy -200 10000 fort.14\n",
    "\n",
    "to generate the mesh with a constant bathymetry 200m below geoid.\n",
    "\n",
    "**Update**: Now accept a command line argument `--bathy` which overrides the bathymetry in the fort.14 with the supplied value. Run\n",
    "\n",
    "    make const BATHY=-200"
   ]
  },
  {
   "cell_type": "markdown",
   "id": "3836b2f5-e321-49c1-92fd-d4ba77774710",
   "metadata": {},
   "source": [
    "#### 3a: Deep bathymetry (200m below geoid)"
   ]
  },
  {
   "cell_type": "code",
   "execution_count": null,
   "id": "badd85b8-91de-4de0-88d8-496f90b97063",
   "metadata": {},
   "outputs": [],
   "source": [
    "row = 2\n",
    "col = 1\n",
    "NP = 560 # no. of nodes\n",
    "\n",
    "N = 8 # no. of nodes in the x-direction\n",
    "M = 70 # no. of nodes in the y-direction\n",
    "cross_nodes = [row + M*i for i in range(0,N)]\n",
    "y_nodes = [col + i for i in range(M)]\n",
    "\n",
    "y_adg = read_63('Beach/fort.63.coupling.-200', y_nodes, total_nodes=NP)\n",
    "y_adc = read_63('Beach/fort.63.adc.-200', y_nodes, total_nodes=NP)\n",
    "v_adg = read_63('Beach/fort.64.coupling.-200', y_nodes, total_nodes=NP, col=2)\n",
    "v_adc = read_63('Beach/fort.64.adc.-200', y_nodes, total_nodes=NP, col=2)\n",
    "\n",
    "data1 = {\n",
    "        \"ADCIRC\": y_adc,\n",
    "        \"DG-CG\": y_adg\n",
    "       }\n",
    "data2 = {\n",
    "    \"ADCIRC\" : v_adc,\n",
    "    \"DG-CG\": v_adg\n",
    "}\n",
    "\n",
    "data_list = [data1, data2]\n",
    "f = make_plot_function(data_list, node_list=y_nodes, ylabel=['Water elevation', 'y-velocity'])\n",
    "interact(f, frame=widgets.IntSlider(min=0, max=int(len(y_adc)/len(y_nodes))-1, step=1, value=0))"
   ]
  },
  {
   "cell_type": "markdown",
   "id": "30a27fc2-8b9f-4d0c-b196-8137495f9919",
   "metadata": {},
   "source": [
    "#### 3b: Shallow bathymetry (10 m below geoid)"
   ]
  },
  {
   "cell_type": "code",
   "execution_count": null,
   "id": "78e45dca-eeb3-499a-a935-585be0e3dd7c",
   "metadata": {
    "editable": true,
    "slideshow": {
     "slide_type": ""
    },
    "tags": [
     "full-width"
    ]
   },
   "outputs": [],
   "source": [
    "row = 2\n",
    "col = 1\n",
    "NP = 560 # no. of nodes\n",
    "\n",
    "N = 8 # no. of nodes in the x-direction\n",
    "M = 70 # no. of nodes in the y-direction\n",
    "cross_nodes = [row + M*i for i in range(0,N)]\n",
    "y_nodes = [col + i for i in range(M)]\n",
    "\n",
    "y_adg = read_63('Beach/fort.63.coupling.-10', y_nodes, total_nodes=NP)\n",
    "y_adc = read_63('Beach/fort.63.adc.-10', y_nodes, total_nodes=NP)\n",
    "v_adg = read_63('Beach/fort.64.coupling.-10', y_nodes, total_nodes=NP, col=2)\n",
    "v_adc = read_63('Beach/fort.64.adc.-10', y_nodes, total_nodes=NP, col=2)\n",
    "\n",
    "data1 = {\n",
    "        \"ADCIRC\": y_adc,\n",
    "        \"DG-CG\": y_adg\n",
    "       }\n",
    "data2 = {\n",
    "    \"ADCIRC\" : v_adc,\n",
    "    \"DG-CG\": v_adg\n",
    "}\n",
    "\n",
    "data_list = [data1, data2]\n",
    "ani = animate63(data_list, node_list=y_nodes, ylabel=['Water elevation', 'y-velocity'])\n",
    "HTML(ani.to_jshtml())"
   ]
  },
  {
   "cell_type": "markdown",
   "id": "317381d8-86e3-4838-a172-e6f2fe188cb6",
   "metadata": {},
   "source": [
    "#### 3c: P0 DG (10m below geoid)\n",
    "Here we use a constant cell-average for DG (finite volume) and use a 10m bathymetry. Run with\n",
    "\n",
    "    make p0 BATHY=-10\n",
    "\n",
    "which uses the option `--solver 2`."
   ]
  },
  {
   "cell_type": "code",
   "execution_count": null,
   "id": "240bd976-a355-4f97-b8b6-36bf0b3dc72f",
   "metadata": {},
   "outputs": [],
   "source": [
    "row = 2\n",
    "col = 1\n",
    "NP = 560 # no. of nodes\n",
    "\n",
    "N = 8 # no. of nodes in the x-direction\n",
    "M = 70 # no. of nodes in the y-direction\n",
    "cross_nodes = [row + M*i for i in range(0,N)]\n",
    "y_nodes = [col + i for i in range(M)]\n",
    "\n",
    "y_adg = read_63('Beach/fort.63.p0', y_nodes, total_nodes=NP)\n",
    "y_adc = read_63('Beach/fort.63.adc.-200', y_nodes, total_nodes=NP)\n",
    "v_adg = read_63('Beach/fort.64.p0', y_nodes, total_nodes=NP, col=2)\n",
    "v_adc = read_63('Beach/fort.64.adc.-200', y_nodes, total_nodes=NP, col=2)\n",
    "\n",
    "data1 = {\n",
    "        \"ADCIRC\": y_adc,\n",
    "        \"DG-CG (p = 0)\": y_adg\n",
    "       }\n",
    "data2 = {\n",
    "    \"ADCIRC\" : v_adc,\n",
    "    \"DG-CG (p = 0)\": v_adg\n",
    "}\n",
    "\n",
    "data_list = [data1, data2]\n",
    "f = make_plot_function(data_list, node_list=y_nodes, ylabel=['Water elevation', 'y-velocity'])\n",
    "interact(f, frame=widgets.IntSlider(min=0, max=int(len(y_adc)/len(y_nodes))-1, step=1, value=0))"
   ]
  },
  {
   "cell_type": "markdown",
   "id": "b5b38b6b-1e68-42c4-b936-db1fedbd1bfa",
   "metadata": {},
   "source": [
    "### Case 4: 'X' mesh\n",
    "\n",
    "This mesh was created with `trirectangle.m` through the `beach_meshes.m` script. The triangulation here is\n",
    "\n",
    "         ____          ____ \n",
    "        |    |        |\\  /|\n",
    "        |    |  ==>   | \\/ | \n",
    "        |    |        | /\\ |\n",
    "        |____|        |/__\\|\n"
   ]
  },
  {
   "cell_type": "code",
   "execution_count": null,
   "id": "b0390352-1330-4b80-8dd2-19957465b748",
   "metadata": {},
   "outputs": [],
   "source": [
    "col = 1\n",
    "NP = 1182 # no. of nodes\n",
    "M = 70 # no. of nodes in the y-direction\n",
    "y_nodes = [col + i for i in range(M)]\n",
    "\n",
    "y_adg = read_63('BeachX/fort.63.coupling',y_nodes, total_nodes=NP)\n",
    "y_adc = read_63('BeachX/fort.63.adc', y_nodes, total_nodes=NP)\n",
    "v_adg = read_63('BeachX/fort.64.coupling',y_nodes, total_nodes=NP, col=2)\n",
    "v_adc = read_63('BeachX/fort.64.adc', y_nodes, total_nodes=NP, col=2)\n",
    "\n",
    "data1 = {\n",
    "        \"ADCIRC\": y_adc,\n",
    "        \"DG-CG\": y_adg\n",
    "       }\n",
    "data2 = {\n",
    "    \"ADCIRC\" : v_adc,\n",
    "    \"DG-CG\": v_adg\n",
    "}\n",
    "\n",
    "data_list = [data1, data2]\n",
    "f = make_plot_function(data_list, node_list=y_nodes, ylabel=['Water elevation', 'y-velocity'])\n",
    "interact(f, frame=widgets.IntSlider(min=0, max=int(len(y_adc)/len(y_nodes))-1, step=1, value=0))"
   ]
  },
  {
   "cell_type": "markdown",
   "id": "90b48ebf-c88f-406e-ac20-22440a4e8099",
   "metadata": {},
   "source": [
    "### Case 5: 'X' mesh with isolated DG elevation"
   ]
  },
  {
   "cell_type": "code",
   "execution_count": null,
   "id": "5074d388-87b6-4b13-b7af-6a4ebfa96554",
   "metadata": {},
   "outputs": [],
   "source": [
    "col = 1\n",
    "NP = 1182 # no. of nodes\n",
    "M = 70 # no. of nodes in the y-direction\n",
    "y_nodes = [col + i for i in range(M)]\n",
    "\n",
    "y_adg = read_63('BeachX/fort.63.eta3',y_nodes, total_nodes=NP)\n",
    "y_adc = read_63('BeachX/fort.63.adc', y_nodes, total_nodes=NP)\n",
    "v_adc = read_63('BeachX/fort.64.adc', y_nodes, total_nodes=NP, col=2)\n",
    "\n",
    "data1 = {\n",
    "        \"ADCIRC\": y_adc,\n",
    "        \"DG isolated elevation\": y_adg\n",
    "       }\n",
    "data2 = {\n",
    "    \"ADCIRC\" : v_adc,\n",
    "}\n",
    "\n",
    "data_list = [data1, data2]\n",
    "f = make_plot_function(data_list, node_list=y_nodes, ylabel=['Water elevation', 'y-velocity'])\n",
    "interact(f, frame=widgets.IntSlider(min=0, max=int(len(y_adc)/len(y_nodes))-1, step=1, value=0))"
   ]
  },
  {
   "cell_type": "markdown",
   "id": "b3ef610a-0e70-4ef4-9ff2-345e17f477fd",
   "metadata": {},
   "source": [
    "### Case 6: re-project nodal-averaged elevation back to DG\n",
    "\n",
    "Here we project the nodal-averaged `eta2` back to the DG basis and compute the next timestep with it. The rationale here is to \"sync up\" the solution between elevation and momentum.\n",
    "\n",
    "Run with \n",
    "\n",
    "    make reproject\n",
    "\n",
    "which calls the code with option `--solver 3`"
   ]
  },
  {
   "cell_type": "code",
   "execution_count": null,
   "id": "57686c5d-fc85-4aec-b3b6-54f4178bc505",
   "metadata": {},
   "outputs": [],
   "source": [
    "row = 2\n",
    "col = 1\n",
    "NP = 560 # no. of nodes\n",
    "N = 8 # no. of nodes in the x-direction\n",
    "M = 70 # no. of nodes in the y-direction\n",
    "cross_nodes = [row + M*i for i in range(0,N)]\n",
    "y_nodes = [col + i for i in range(M)]\n",
    "\n",
    "y_adg = read_63('Beach/fort.63.reproj', y_nodes, total_nodes=NP)\n",
    "y_adc = read_63('Beach/fort.63.adc', y_nodes, total_nodes=NP)\n",
    "v_adg = read_63('Beach/fort.64.reproj',y_nodes, total_nodes=NP, col=2)\n",
    "v_adc = read_63('Beach/fort.64.adc', y_nodes, total_nodes=NP, col=2)\n",
    "\n",
    "data1 = {\n",
    "        \"ADCIRC\": y_adc,\n",
    "        \"DG-CG\": y_adg\n",
    "       }\n",
    "data2 = {\n",
    "    \"ADCIRC\" : v_adc,\n",
    "    \"DG-CG\": v_adg\n",
    "}\n",
    "\n",
    "data_list = [data1, data2]\n",
    "f = make_plot_function(data_list, node_list=y_nodes, ylabel=['Water elevation', 'y-velocity'])\n",
    "interact(f, frame=widgets.IntSlider(min=0, max=int(len(y_adc)/len(y_nodes))-1, step=1, value=0))"
   ]
  },
  {
   "cell_type": "markdown",
   "id": "21b6197d-fd44-4bc4-b3b4-d36a461184af",
   "metadata": {},
   "source": [
    "### Case 7: DG elevation in H terms, GWCE in gradient terms\n",
    "\n",
    "Ethan's suggestion: feed the CG momentum solver with DG nodal-averaged elevation only for non-gradient terms, i.e.\n",
    "\n",
    "$$ \\left\\langle \\frac{\\tau}{H \\rho_0}, \\phi_j \\right\\rangle_\\Omega = \\left\\langle \\frac{\\tau}{(\\zeta + h) \\rho_0}, \\phi_j \\right\\rangle_\\Omega$$\n",
    "\n",
    "but use the GWCE elevation to compute the gradient term in the **barotropic** pressure:\n",
    "\n",
    "$$ \\left \\langle g \\frac{\\partial \\zeta}{\\partial x}, \\phi_j \\right\\rangle_\\Omega $$\n",
    "\n",
    "These are stored in the variables `DBTPDX1A`, etc. in `momentum.F`.\n",
    "\n",
    "This can be run with\n",
    "\n",
    "    make gradient\n",
    "\n",
    "which calls the program with `--solver 4`."
   ]
  },
  {
   "cell_type": "code",
   "execution_count": null,
   "id": "a589b894-181f-450f-a409-755d21a402d0",
   "metadata": {},
   "outputs": [],
   "source": [
    "row = 2\n",
    "col = 1\n",
    "NP = 560 # no. of nodes\n",
    "N = 8 # no. of nodes in the x-direction\n",
    "M = 70 # no. of nodes in the y-direction\n",
    "cross_nodes = [row + M*i for i in range(0,N)]\n",
    "y_nodes = [col + i for i in range(M)]\n",
    "\n",
    "y_adg = read_63('Beach/fort.63.grad', y_nodes, total_nodes=NP)\n",
    "y_adc = read_63('Beach/fort.63.adc', y_nodes, total_nodes=NP)\n",
    "v_adg = read_63('Beach/fort.64.grad',y_nodes, total_nodes=NP, col=2)\n",
    "v_adc = read_63('Beach/fort.64.adc', y_nodes, total_nodes=NP, col=2)\n",
    "\n",
    "data1 = {\n",
    "        \"ADCIRC\": y_adc,\n",
    "        \"DG-CG\": y_adg\n",
    "       }\n",
    "data2 = {\n",
    "    \"ADCIRC\" : v_adc,\n",
    "    \"DG-CG\": v_adg\n",
    "}\n",
    "\n",
    "data_list = [data1, data2]\n",
    "f = make_plot_function(data_list, node_list=y_nodes, ylabel=['Water elevation', 'y-velocity'])\n",
    "interact(f, frame=widgets.IntSlider(min=0, max=int(len(y_adg)/len(y_nodes))-1, step=1, value=0))"
   ]
  },
  {
   "cell_type": "markdown",
   "id": "11aac27a-23f4-4740-beec-0573b87d909d",
   "metadata": {},
   "source": [
    "### Case 8: DG + Conservative momentum formulation\n",
    "\n",
    "Use\n",
    "\n",
    "    make cm\n",
    "\n",
    "which calls the options `--solver 1 --momentum_solver 2`"
   ]
  },
  {
   "cell_type": "code",
   "execution_count": null,
   "id": "7ee727d8-7557-41bd-bdc9-6d401c512cbe",
   "metadata": {},
   "outputs": [],
   "source": [
    "row = 2\n",
    "col = 1\n",
    "NP = 560 # no. of nodes\n",
    "N = 8 # no. of nodes in the x-direction\n",
    "M = 70 # no. of nodes in the y-direction\n",
    "cross_nodes = [row + M*i for i in range(0,N)]\n",
    "y_nodes = [col + i for i in range(M)]\n",
    "\n",
    "y_adg = read_63('Beach/fort.63.cm', y_nodes, total_nodes=NP)\n",
    "y_adc = read_63('Beach/fort.63.adc.-200', y_nodes, total_nodes=NP)\n",
    "v_adg = read_63('Beach/fort.64.cm',y_nodes, total_nodes=NP, col=2)\n",
    "v_adc = read_63('Beach/fort.64.adc.-200', y_nodes, total_nodes=NP, col=2)\n",
    "\n",
    "data1 = {\n",
    "        \"ADCIRC\": y_adc,\n",
    "        \"DG-CG, conservative momentum\": y_adg\n",
    "       }\n",
    "data2 = {\n",
    "    \"ADCIRC\" : v_adc,\n",
    "    \"DG-CG, conservative momentum\": v_adg\n",
    "}\n",
    "\n",
    "data_list = [data1, data2]\n",
    "f = make_plot_function(data_list, node_list=y_nodes, ylabel=['Water elevation', 'y-velocity'])\n",
    "interact(f, frame=widgets.IntSlider(min=0, max=int(len(y_adc)/len(y_nodes))-1, step=1, value=0))"
   ]
  },
  {
   "cell_type": "markdown",
   "id": "da20ca57-57e8-4628-b47b-711693046445",
   "metadata": {},
   "source": [
    "### Case 9 : New momentum formulation\n"
   ]
  },
  {
   "cell_type": "code",
   "execution_count": null,
   "id": "39380b0d-f84c-49e4-8410-e4a3faae798a",
   "metadata": {
    "editable": true,
    "slideshow": {
     "slide_type": ""
    },
    "tags": []
   },
   "outputs": [],
   "source": [
    "row = 2\n",
    "col = 71\n",
    "NP = 560 # no. of nodes\n",
    "N = 8 # no. of nodes in the x-direction\n",
    "M = 70 # no. of nodes in the y-direction\n",
    "cross_nodes = [row + M*i for i in range(0,N)]\n",
    "y_nodes = [col + i for i in range(M)]\n",
    "\n",
    "y_adg = read_63('Beach/fort.63.new', y_nodes, total_nodes=NP)\n",
    "y_adc = read_63('Beach/fort.63.adc.-10', y_nodes, total_nodes=NP)\n",
    "v_adg = read_63('Beach/fort.64.new',y_nodes, total_nodes=NP, col=2)\n",
    "v_adc = read_63('Beach/fort.64.adc.-10', y_nodes, total_nodes=NP, col=2)\n",
    "\n",
    "data1 = {\n",
    "        \"ADCIRC\": y_adc,\n",
    "        \"DG-CG, new momentum\": y_adg\n",
    "       }\n",
    "data2 = {\n",
    "    \"ADCIRC\" : v_adc,\n",
    "    \"DG-CG, new momentum\": v_adg\n",
    "}\n",
    "\n",
    "data_list = [data1, data2]\n",
    "f = make_plot_function(data_list, node_list=y_nodes, ylabel=['Water elevation', 'y-velocity'])\n",
    "#interact(f, frame=widgets.IntSlider(min=0, max=int(len(y_adg)/len(y_nodes))-1, step=1, value=0))\n",
    "ani = animate63(data_list, node_list=y_nodes, ylabel=['Water elevation', 'y-velocity'])\n",
    "HTML(ani.to_jshtml())"
   ]
  },
  {
   "cell_type": "markdown",
   "id": "00fdacbd-e195-49ed-8adb-0c0e02dc51bf",
   "metadata": {},
   "source": [
    "### Case 10: Using DG cell average\n",
    "In this case, the nodal average of each `ETA2(I)` is computed using the cell average of each neighboring cell, while the DG solver still maintains a first-order solution state in `ZE`. Run with\n",
    "\n",
    "    make avg\n",
    "\n",
    "which uses the option `--solver 5`."
   ]
  },
  {
   "cell_type": "code",
   "execution_count": null,
   "id": "4aec778a-3e83-4288-817e-3217d16c742c",
   "metadata": {
    "editable": true,
    "slideshow": {
     "slide_type": ""
    },
    "tags": [
     "full-width"
    ]
   },
   "outputs": [],
   "source": [
    "row = 2\n",
    "col = 71\n",
    "NP = 560 # no. of nodes\n",
    "N = 8 # no. of nodes in the x-direction\n",
    "M = 70 # no. of nodes in the y-direction\n",
    "cross_nodes = [row + M*i for i in range(0,N)]\n",
    "y_nodes = [col + i for i in range(M)]\n",
    "\n",
    "y_adg = read_63('Beach/fort.63.avg', y_nodes, total_nodes=NP)\n",
    "y_adc = read_63('Beach/fort.63.adc', y_nodes, total_nodes=NP)\n",
    "v_adg = read_63('Beach/fort.64.avg',y_nodes, total_nodes=NP, col=2)\n",
    "v_adc = read_63('Beach/fort.64.adc', y_nodes, total_nodes=NP, col=2)\n",
    "\n",
    "data1 = {\n",
    "        \"ADCIRC\": y_adc,\n",
    "        \"DG-CG, cell-average\": y_adg\n",
    "       }\n",
    "data2 = {\n",
    "    \"ADCIRC\" : v_adc,\n",
    "    \"DG-CG, cell-average\": v_adg\n",
    "}\n",
    "\n",
    "data_list = [data1, data2]\n",
    "ani = animate63(data_list, node_list=y_nodes, ylabel=['Water elevation', 'y-velocity'])\n",
    "HTML(ani.to_jshtml())"
   ]
  },
  {
   "cell_type": "markdown",
   "id": "c92229b2-c3d4-47e4-8baa-0f411c8a6d6f",
   "metadata": {},
   "source": [
    "#### Cross-section view"
   ]
  },
  {
   "cell_type": "code",
   "execution_count": null,
   "id": "d01dce5c-1c0b-4574-b868-9963daefc4fb",
   "metadata": {
    "editable": true,
    "slideshow": {
     "slide_type": ""
    },
    "tags": [
     "full-width"
    ]
   },
   "outputs": [],
   "source": [
    "row = 2\n",
    "NP = 560 # no. of nodes\n",
    "N = 8 # no. of nodes in the x-direction\n",
    "M = 70 # no. of nodes in the y-direction\n",
    "y_nodes = [row + M*i for i in range(0,N)]\n",
    "\n",
    "y_adg = read_63('Beach/fort.63.avg', y_nodes, total_nodes=NP)\n",
    "y_adc = read_63('Beach/fort.63.adc', y_nodes, total_nodes=NP)\n",
    "v_adg = read_63('Beach/fort.64.avg',y_nodes, total_nodes=NP, col=1)\n",
    "v_adc = read_63('Beach/fort.64.adc', y_nodes, total_nodes=NP, col=1)\n",
    "\n",
    "data1 = {\n",
    "        \"ADCIRC\": y_adc,\n",
    "        \"DG-CG, cell-average\": y_adg\n",
    "       }\n",
    "data2 = {\n",
    "    \"ADCIRC\" : v_adc,\n",
    "    \"DG-CG, cell-average\": v_adg\n",
    "}\n",
    "\n",
    "data_list = [data1, data2]\n",
    "ani = animate63(data_list, node_list=y_nodes, ylabel=['Water elevation', 'x-velocity'], title='x-direction profile')\n",
    "HTML(ani.to_jshtml())"
   ]
  },
  {
   "cell_type": "markdown",
   "id": "822d833f-6714-46ba-b046-a62fc4c8d566",
   "metadata": {},
   "source": [
    "### Case 11: Stabilization term\n"
   ]
  },
  {
   "cell_type": "code",
   "execution_count": null,
   "id": "fba37e43-c84a-4a0a-a20b-611904e2ce8b",
   "metadata": {},
   "outputs": [],
   "source": [
    "row = 2\n",
    "col = 71\n",
    "NP = 560 # no. of nodes\n",
    "N = 8 # no. of nodes in the x-direction\n",
    "M = 70 # no. of nodes in the y-direction\n",
    "cross_nodes = [row + M*i for i in range(0,N)]\n",
    "y_nodes = [col + i for i in range(M)]\n",
    "\n",
    "y_adg = read_63('Beach/fort.63.stab', y_nodes, total_nodes=NP)\n",
    "y_adc = read_63('Beach/fort.63.adc', y_nodes, total_nodes=NP)\n",
    "v_adg = read_63('Beach/fort.64.stab',y_nodes, total_nodes=NP, col=2)\n",
    "v_adc = read_63('Beach/fort.64.adc', y_nodes, total_nodes=NP, col=2)\n",
    "\n",
    "data1 = {\n",
    "        \"ADCIRC\": y_adc,\n",
    "        \"DG-CG, cell-average\": y_adg\n",
    "       }\n",
    "data2 = {\n",
    "    \"ADCIRC\" : v_adc,\n",
    "    \"DG-CG, cell-average\": v_adg\n",
    "}\n",
    "\n",
    "data_list = [data1, data2]\n",
    "ani = animate63(data_list, node_list=y_nodes, ylabel=['Water elevation', 'y-velocity'])\n",
    "HTML(ani.to_jshtml())"
   ]
  },
  {
   "cell_type": "code",
   "execution_count": null,
   "id": "dd22aa26-f5ae-4d04-848b-42518a0c1d61",
   "metadata": {},
   "outputs": [],
   "source": []
  }
 ],
 "metadata": {
  "kernelspec": {
   "display_name": "Python 3 (ipykernel)",
   "language": "python",
   "name": "python3"
  },
  "language_info": {
   "codemirror_mode": {
    "name": "ipython",
    "version": 3
   },
   "file_extension": ".py",
   "mimetype": "text/x-python",
   "name": "python",
   "nbconvert_exporter": "python",
   "pygments_lexer": "ipython3",
   "version": "3.12.2"
  },
  "tags": [
   "full-width"
  ]
 },
 "nbformat": 4,
 "nbformat_minor": 5
}
