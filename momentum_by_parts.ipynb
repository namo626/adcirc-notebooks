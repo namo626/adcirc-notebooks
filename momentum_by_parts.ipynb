{
 "cells": [
  {
   "cell_type": "markdown",
   "id": "1a662e70-8fa3-4e9c-9b96-3c0a67b4daf5",
   "metadata": {},
   "source": [
    "# Alternative ADCIRC momentum formulation \n",
    "\n",
    "This is an attempt to reformulate the conservative formulation of the momentum equations to avoid oscillations when coupled with DG elevation solver. The idea is to follow the DG formulation and integrate by parts, avoiding the need to compute the gradient of the surface elevation which was shown to be the cause of the oscillations."
   ]
  },
  {
   "cell_type": "markdown",
   "id": "2b461ffa-570c-4426-9f72-70a3ee56a908",
   "metadata": {
    "editable": true,
    "slideshow": {
     "slide_type": ""
    },
    "tags": []
   },
   "source": [
    "## 1. Standard ADCIRC formulation\n",
    "$ \\newcommand{\\area}[2]{\\left \\langle #1, #2 \\right \\rangle_{\\Omega}} $\n",
    "$ \\newcommand{dx}[1]{\\frac{\\partial #1}{\\partial x}} $\n",
    "$ \\newcommand{dy}[1]{\\frac{\\partial #1}{\\partial y}} $ \n",
    "$ \\newcommand{dt}[1]{\\frac{\\partial #1}{\\partial t}} $\n",
    "\n",
    "For each node $j$, the weak formulation for x and y momentum is\n",
    "\n",
    "$$\\area{\\frac{\\partial Q_x}{\\partial t}}{\\phi_j} = -\\area{\\dx{UQ_x}}{\\phi_j} - \\area{\\dy{VQ_x}}{\\phi_j} -\n",
    "\\area{F_{\\tau}}{\\phi_j} - \\textcolor{red}{\\area{gH \\dx{\\zeta}}{\\phi_j}}.$$\n",
    "\n",
    "$$\\area{\\frac{\\partial Q_y}{\\partial t}}{\\phi_j} = -\\area{\\dx{UQ_y}}{\\phi_j} - \\area{\\dy{VQ_y}}{\\phi_j} -\n",
    "\\area{F_{\\tau}}{\\phi_j} - \\textcolor{red}{\\area{gH \\dy{\\zeta}}{\\phi_j}}.$$\n",
    "\n",
    "We see that there is a gradient term (barotropic pressure) $\\partial \\zeta / \\partial x$ on the RHS."
   ]
  },
  {
   "cell_type": "markdown",
   "id": "9fb52ae2-8826-4301-9f58-1d2138831bc0",
   "metadata": {},
   "source": [
    "## 2. New conservative formulation\n",
    "\n",
    "Starting from the conservative form of the momentum conservation equations, DG uses the following formulation (but with each inner product on a single element). This avoids the elevation gradient term.\n",
    "\n",
    "### Weak form\n",
    "$$\\area{\\dt{w}_i}{\\phi} = \\area{\\mathbf{F}_i}{\\nabla \\phi} -\n",
    "\\int_{\\partial \\Omega} \\mathbf{F}_i \\cdot n \\phi_j \\; d\\Gamma + \\area{s_i}{\\phi}$$\n",
    "\n",
    "where\n",
    "\n",
    "$$\n",
    "\\begin{align}\n",
    "w &= [\\zeta, UH, VH] \\equiv [\\zeta, Q_x, Q_y]\\\\\n",
    "\\mathbf{F}_1 &= [Q_x, Q_y] \\\\\n",
    "\\mathbf{F}_2 &= [UQ_x + \\frac{1}{2} g (H^2-h^2), VQ_x] \\\\\n",
    "\\mathbf{F}_3 &= [UQ_y, VQ_y + \\frac{1}{2} g (H^2-h^2)] \\\\\n",
    "s &= [ 0, g \\zeta \\dx{h} - F_{\\tau}, g \\zeta \\dy{h} - F_{\\tau} ]\n",
    "\\end{align}\n",
    "$$\n"
   ]
  },
  {
   "cell_type": "markdown",
   "id": "98f1040b-7172-4a98-a9fb-1cc165372538",
   "metadata": {},
   "source": [
    "Expanding for $i = 2,3$ gives\n",
    "\n",
    "$$\n",
    "\\begin{align}\n",
    "\\area{\\dt{Q_x}}{\\phi_j} &= \\area{Q_x U}{\\dx{\\phi_j}} + \\area{VQ_x}{\\dy{\\phi_j}}  + \\area{\\frac{1}{2} g(H^2-h^2)}{\\dx{\\phi_j}} \\\\\n",
    "&- \\int_{\\partial \\Omega} Q_x (\\mathbf{U} \\cdot \\mathbf{n}) \\phi_j \\; ds -\n",
    "\\int_{\\partial \\Omega}  \\frac{1}{2} g(H^2-h^2) n_x \\phi_j \\; ds \\\\\n",
    "&- \\area{F_{\\tau}}{\\phi_j} + \\area{g\\zeta\\dx{h}}{\\phi_j}\\\\\n",
    "\\area{\\dt{Q_y}}{\\phi_j} &= \\area{Q_y U}{\\dx{\\phi_j}} + \\area{VQ_y}{\\dy{\\phi_j}} + \\area{\\frac{1}{2} g(H^2-h^2)}{\\dy{\\phi_j}} \\\\\n",
    "&- \\int_{\\partial \\Omega} Q_y (\\mathbf{U} \\cdot \\mathbf{n}) \\phi_j \\; ds -\n",
    "\\int_{\\partial \\Omega}  \\frac{1}{2} g(H^2-h^2) n_y \\phi_j \\; ds \\\\\n",
    "&- \\area{F_{\\tau}}{\\phi_j} + \\area{g\\zeta\\dy{h}}{\\phi_j}\n",
    "\\end{align}\n",
    "$$"
   ]
  },
  {
   "cell_type": "markdown",
   "id": "43e7cf1b-ebda-4ccb-ba1b-c70dfd1ea53e",
   "metadata": {},
   "source": [
    "### Quadrature rules\n",
    "\n",
    "Currently, ADCIRC has no rule for edge integration, which is needed in our new formulation. The area integration rules are\n",
    "\n",
    "#### Rule 1: nodal lumping\n",
    "\n",
    "$$\\area{\\gamma}{\\phi_j} \\approx \\frac{A_{NE_j}}{3} \\gamma_j$$\n",
    "\n",
    "where $\\gamma_j$ is the nodal value.\n",
    "\n",
    "#### Rule 2: fully consistent\n",
    "\n",
    "$$\\area{\\dx{\\gamma}}{\\phi_j} = \\sum_{n=1}^{NE_j} \\frac{A_n}{3} \\left (\\dx{\\gamma} \\right )_n\n",
    "= \\sum_{n=1}^{NE_j} \\frac{A_n}{3} \\sum_{i=1}^3 \\gamma_i \\dx{\\psi_i}$$\n",
    "\n",
    "where $(x)_n$ is the (constant) value in element $n$, and $\\psi_i$ is the *local* basis function on element $n$ with has value 1 at the $i^{th}$ local vertex.\n",
    "\n",
    "#### Rule 3: derivative on test functions\n",
    "\n",
    "$$\\area{\\gamma}{\\dx{\\phi_j}} = \\sum_{n=1}^{NE_j} \\left( \\dx{\\phi_j} \\right)_n \\int_{\\Omega_n} \\gamma \\; dA\n",
    "\\approx \\sum_{n=1}^{NE_j} A_n \\bar{\\gamma}_n \\left( \\dx{\\phi_j} \\right)_n$$\n",
    "\n"
   ]
  },
  {
   "cell_type": "markdown",
   "id": "93ba8f55-9288-4825-b5fa-f70704249d76",
   "metadata": {
    "editable": true,
    "slideshow": {
     "slide_type": ""
    },
    "tags": []
   },
   "source": [
    "#### Rule 4: edge integration\n",
    "\n",
    "Each global basis function spans two edges. We approximate $\\gamma$ by its average across the two nodes of each edge. Since $\\phi_j$ is goes from 0 to 1 from one node to another, its area under graph is simply half of the length of that edge.\n",
    "\n",
    "$$\\begin{align}\n",
    "\\int_{\\partial\\Omega} \\gamma \\phi_j \\; ds &= \\sum_{n=1}^2 \\int_{E_n} \\gamma \\phi_j \\; ds \\\\\n",
    "                                        & \\approx \\sum_{n=1}^2 \\bar{\\gamma}_{n} \\int_{E_n} \\phi_j \\; ds \\\\\n",
    "&= \\sum_{n=1}^2 \\bar{\\gamma}_{n} \\cdot \\frac{1}{2} L_n\n",
    "\\end{align}\n",
    "$$\n"
   ]
  },
  {
   "cell_type": "markdown",
   "id": "785c3ff8-296d-42bf-9e72-9c5c008673d9",
   "metadata": {},
   "source": [
    "## 3. Implementation details"
   ]
  },
  {
   "cell_type": "markdown",
   "id": "06c9f2d5-f40f-4c31-bea0-195d00060a31",
   "metadata": {},
   "source": [
    "Using these rules, the computations of our terms will be as follow. In practice, we loop over each element, compute the integrals, and then add them to the corresponding 3 nodes of that element. In the code sections, it is assumed that we are already working on a specific element with nodes `NM1`, `NM2`, `NM3`.\n",
    "\n",
    "In the implementation, as we work on each element $ n $, the test function term $ (\\dx{\\phi})_n $ will be comprised of 3 terms: `FDX1`, `FDX2`, `FDX3`, corresponding to \n",
    "\n",
    "$$\\left(\\dx{\\phi_{NM1}} \\right)_n, \\left(\\dx{\\phi_{NM2}}\\right)_n, \\left(\\dx{\\phi_{NM3}}\\right)_n,$$\n",
    "respectively.\n",
    " \n",
    "```{note}\n",
    "Note that some terms require a factor of 3 in front since everything will be multipled by $3/A_n$ later in ADCIRC\n",
    "```\n"
   ]
  },
  {
   "cell_type": "markdown",
   "id": "811c6948-5152-40b6-83ae-1c04d0614a11",
   "metadata": {},
   "source": [
    "### 3a. Advection terms\n",
    "\n",
    "#### x-momentum\n",
    "$$3\\area{UQ_x}{\\dx{\\phi_j}} = 3\\sum_n^{NE_j} \\int_{\\Omega_n} U Q_x \\dx{\\phi_j} \\; dA \\approx 3\\sum_n A_n \\bar{U}_n \\bar{(Q_x)}_n \\left(\\dx{\\phi_j} \\right)_n$$\n",
    "\n",
    "$$3\\area{VQ_x}{\\dy{\\phi_j}} = 3\\sum_n^{NE_j} \\int_{\\Omega_n} V Q_x \\dy{\\phi_j} \\; dA \\approx 3\\sum_n A_n \\bar{V}_n \\bar{(Q_x)}_n \\left(\\dy{\\phi_j} \\right)_n$$\n",
    "\n",
    "#### y-momentum\n",
    "$$3\\area{UQ_y}{\\dx{\\phi_j}} = 3\\sum_n^{NE_j} \\int_{\\Omega_n} U Q_y \\dx{\\phi_j} \\; dA \\approx 3\\sum_n A_n \\bar{U}_n \\bar{(Q_y)}_n \\left(\\dx{\\phi_j} \\right)_n$$\n",
    "\n",
    "$$3\\area{VQ_y}{\\dy{\\phi_j}} = 3\\sum_n^{NE_j} \\int_{\\Omega_n} V Q_y \\dy{\\phi_j} \\; dA \\approx 3\\sum_n A_n \\bar{V}_n \\bar{(Q_y)}_n \\left(\\dy{\\phi_j} \\right)_n$$"
   ]
  },
  {
   "cell_type": "markdown",
   "id": "65d03374-6623-47d2-abcc-08ae8f3d9dc8",
   "metadata": {},
   "source": [
    "#### Code\n",
    "```fortran\n",
    "QX1Avg = (QX1N1 + QX1N2 + QX1N3) / 3.\n",
    "QY1Avg = (QY1N1 + QY1N2 + QY1N3) / 3.\n",
    "\n",
    "U1Avg = (U1N1 + U1N2 + U1N3) / 3.\n",
    "V1Avg = (V1N1 + V1N2 + V1N3) / 3.\n",
    "\n",
    "!! X-momentum\n",
    "! Node NM1 contribution\n",
    "TEMP_LV_A1 += 3 * (QX1Avg*U1Avg*FDX1 + QX1Avg*V1Avg*FDY1)\n",
    "\n",
    "! Node NM2 contribution\n",
    "TEMP_LV_A2 += 3 * (QX1Avg*U1Avg*FDX2 + QX1Avg*V1Avg*FDY2)\n",
    "\n",
    "! Node NM3 contribution\n",
    "TEMP_LV_A3 += 3 * (QX1Avg*U1Avg*FDX3 + QX1Avg*V1Avg*FDY3)\n",
    "\n",
    "!! Y-momentum\n",
    "! Node NM1 contribution\n",
    "TEMP_LV_B1 += 3 * (QY1Avg*U1Avg*FDX1 + QY1Avg*V1Avg*FDY1)\n",
    "\n",
    "! Node NM2 contribution\n",
    "TEMP_LV_B2 += 3 * (QY1Avg*U1Avg*FDX2 + QY1Avg*V1Avg*FDY2)\n",
    "\n",
    "! Node NM3 contribution\n",
    "TEMP_LV_B3 += 3 * (QY1Avg*U1Avg*FDX3 + QY1Avg*V1Avg*FDY3)\n",
    "\n",
    "\n",
    "\n",
    "\n",
    "```"
   ]
  },
  {
   "cell_type": "markdown",
   "id": "56c4fa4a-c2f7-4fbb-932a-b9660243fd86",
   "metadata": {},
   "source": [
    "### 3b. Barotropic pressure gradient terms\n",
    "\n",
    "#### x-momentum\n",
    "$$3\\area{\\frac{1}{2} g(H^2-h^2)}{\\dx{\\phi_j}} \\approx 3\\sum_{n=1}^{NE_j} A_n \\frac{1}{2} g (\\overline{H^2-h^2})_n \\left(\\dx{\\phi_j} \\right)_n$$\n",
    "\n",
    "#### y-momentum\n",
    "$$3\\area{\\frac{1}{2} g(H^2-h^2)}{\\dy{\\phi_j}} \\approx 3\\sum_{n=1}^{NE_j} A_n \\frac{1}{2} g (\\overline{H^2-h^2})_n \\left(\\dy{\\phi_j} \\right)_n$$"
   ]
  },
  {
   "cell_type": "markdown",
   "id": "13a44c8e-9b9f-4f3d-84cc-2ed6e8a32175",
   "metadata": {
    "jp-MarkdownHeadingCollapsed": true
   },
   "source": [
    "#### Code\n",
    "```fortran\n",
    "Hdiff1 = H1N1^2 - DPN1^2\n",
    "Hdiff2 = H1N2^2 - DPN2^2\n",
    "Hdiff3 = H1N2^2 - DPN2^2\n",
    "HdiffAvg =( Hdiff1 + Hdiff2 + Hdiff3) / 3.\n",
    "\n",
    "!! X-momentum\n",
    "! Node NM1 contribution\n",
    "TEMP_LV_A1 += 3 * 0.5*g*HdiffAvg*FDX1 \n",
    "\n",
    "! Node NM2 contribution\n",
    "TEMP_LV_A2 += 3 * 0.5*g*HdiffAvg*FDX2 \n",
    "\n",
    "! Node NM3 contribution\n",
    "TEMP_LV_A3 += 3 * 0.5*g*HdiffAvg*FDX3 \n",
    "\n",
    "!! Y-momentum\n",
    "! Node NM1 contribution\n",
    "TEMP_LV_B1 += 3 * 0.5*g*HdiffAvg*FDY1 \n",
    "\n",
    "! Node NM2 contribution\n",
    "TEMP_LV_B2 += 3 * 0.5*g*HdiffAvg*FDY2 \n",
    "\n",
    "! Node NM3 contribution\n",
    "TEMP_LV_B3 += 3 * 0.5*g*HdiffAvg*FDY3 \n",
    "\n",
    "```"
   ]
  },
  {
   "cell_type": "markdown",
   "id": "2e92341b-f8d3-4144-b19c-dfd810aa6753",
   "metadata": {},
   "source": [
    "### 3c. Lateral stress gradient terms\n",
    "\n",
    "Currently we set `ESLM = 0` so these terms do not appear."
   ]
  },
  {
   "cell_type": "markdown",
   "id": "1c9dd10d-9ed2-4431-90c7-3d449bf98971",
   "metadata": {},
   "source": [
    "### 3d. Extra boundary terms\n",
    "Here we will have to create a new subroutine to loop through the edges, compute the edge integral, and add it to the load vectors `MOM_LV_X` and `MOM_LV_Y` for each of the two nodes. We can simplify calculations by splitting it into elevation-specified and wall boundaries. The first term on the RHS vanishes for wall boundaries since the normal velocity is zero.\n",
    "\n",
    "#### x-momentum\n",
    "\n",
    "$$\\begin{align}\n",
    "\\int_{\\partial \\Omega} \\{[UQ_x + \\frac{1}{2} g(H^2-h^2)] n_x + VQ_x n_y\\} \\phi_j \\; d\\Gamma &= \n",
    "\\int_{\\partial \\Omega} Q_x (\\mathbf{U} \\cdot \\mathbf{n}) \\phi_j \\; ds \\\\\n",
    "&+ \\int_{\\partial \\Omega}  \\frac{1}{2} g(H^2-h^2) n_x \\phi_j \\; ds\n",
    "\\end{align}$$\n",
    "\n",
    "#### y-momentum\n",
    "\n",
    "$$\n",
    "\\begin{align}\n",
    "\\int_{\\partial \\Omega} \\{UQ_y n_x + [\\frac{1}{2} g(H^2-h^2) + VQ_y] n_y\\} \\phi_j \\; d\\Gamma &=\n",
    "\\int_{\\partial \\Omega} Q_y (\\mathbf{U} \\cdot \\mathbf{n}) \\phi_j \\; ds \\\\\n",
    "&+ \\int_{\\partial \\Omega}  \\frac{1}{2} g(H^2-h^2) n_y \\phi_j \\; ds\n",
    "\\end{align}\n",
    "$$"
   ]
  },
  {
   "cell_type": "markdown",
   "id": "ae56a111-cd11-4518-adb0-4a70614c8511",
   "metadata": {
    "editable": true,
    "slideshow": {
     "slide_type": ""
    },
    "tags": []
   },
   "source": [
    "#### Code\n",
    "In the implementation, we will have to loop through the outer edges (like in DG).\n",
    "\n",
    "```fortran\n",
    "DO I = 1,Nedges\n",
    "    ! Get the global edge number\n",
    "    GED = ...\n",
    "\n",
    "    ! Get the 2 nodes connected to this edge\n",
    "    N1 = NEDNO(1, GED)\n",
    "    N2 = NEDNO(2, GED)\n",
    "\n",
    "    ! Get the normal vector\n",
    "    NX = COSNX(GED)\n",
    "    NY = SINNX(GED)\n",
    "\n",
    "    QX1Avg = (QX1(N1) + QX1(N2)) / 2\n",
    "    U1Avg = (UU1(N1) + UU1(N2)) / 2\n",
    "    V1Avg = (VV1(N1) + VV1(N2)) / 2.\n",
    "\n",
    "    Hdiff1 = H1N1^2 - DPN1^2\n",
    "    Hdiff2 = H1N2^2 - DPN2^2\n",
    "\n",
    "    integral = 0.5*XLEN(GED)*( (U1Avg*QX1Avg + 0.5*G*HdiffAvg) * NX + V1Avg*QX1Avg * NY )\n",
    "\n",
    "    ! Node NM1 contribution\n",
    "    TEMP_LV_A1 += integral\n",
    "\n",
    "    ! Node NM2 contribution\n",
    "    TEMP_LV_A2 += integral\n",
    "    \n",
    "END DO\n",
    "```"
   ]
  },
  {
   "cell_type": "markdown",
   "id": "892341dd-c293-4536-851a-14b572bd6505",
   "metadata": {},
   "source": [
    "### 3e. Bathymetric gradient terms\n",
    "\n",
    "Let\n",
    "\n",
    "$$ (\\zeta)_n = \\frac{1}{2} (\\zeta_n^s + \\zeta_n^{s+1})$$"
   ]
  },
  {
   "cell_type": "markdown",
   "id": "28f75cda-1510-4aae-b806-b11c6139f11a",
   "metadata": {},
   "source": [
    "#### x-momentum\n",
    "$$3\\area{g\\zeta\\dx{h}}{\\phi_j} = 3\\sum_{n=1}^{NE_j} \\frac{A_n}{3} g (\\zeta)_n \\left(\\dx{h} \\right)_n$$\n",
    "\n",
    "#### y-momentum\n",
    "$$3\\area{g\\zeta\\dy{h}}{\\phi_j} = 3\\sum_{n=1}^{NE_j} \\frac{A_n}{3} g (\\zeta)_n \\left(\\dy{h} \\right)_n$$"
   ]
  },
  {
   "cell_type": "markdown",
   "id": "210ff9ba-1910-4716-98f0-8a91b0b6d273",
   "metadata": {},
   "source": [
    "#### Code\n",
    "```fortran\n",
    "EtaAvg1 = (ETA1(NM1) + ETA1(NM2) + ETA1(NM3)) / 3.\n",
    "EtaAvg2 = (ETA2(NM1) + ETA2(NM2) + ETA2(NM3)) / 3.\n",
    "EtaAvg = 0.5*(EtaAvg1 + EtaAvg2)\n",
    "\n",
    "!! Bathymetric gradient\n",
    "DBDX = DP(NM1)*FDX1+DP(NM2)*FDX2+DP(N3)*FDX3\n",
    "DBDY = DP(NM1)*FDY1+DP(NM2)*FDY2+DP(N3)*FDY3\n",
    "\n",
    "BathGradTermX = G*DBDX*EtaAvg\n",
    "BathGradTermY = G*DBDY*EtaAvg\n",
    "\n",
    "\n",
    "!! X-momentum\n",
    "! Node NM1 contribution\n",
    "TEMP_LV_A1 += BathGradTermX\n",
    "\n",
    "! Node NM2 contribution\n",
    "TEMP_LV_A2 += BathGradTermX\n",
    "\n",
    "! Node NM3 contribution\n",
    "TEMP_LV_A3 += BathGradTermX\n",
    "\n",
    "!! Y-momentum\n",
    "! Node NM1 contribution\n",
    "TEMP_LV_B1 += BathGradTermY\n",
    "\n",
    "! Node NM2 contribution\n",
    "TEMP_LV_B2 += BathGradTermY\n",
    "\n",
    "! Node NM3 contribution\n",
    "TEMP_LV_B3 += BathGradTermY\n",
    "```\n"
   ]
  },
  {
   "cell_type": "code",
   "execution_count": null,
   "id": "be481406-e756-4c8a-909b-b5a50c7a8125",
   "metadata": {},
   "outputs": [],
   "source": []
  }
 ],
 "metadata": {
  "kernelspec": {
   "display_name": "Python 3 (ipykernel)",
   "language": "python",
   "name": "python3"
  },
  "language_info": {
   "codemirror_mode": {
    "name": "ipython",
    "version": 3
   },
   "file_extension": ".py",
   "mimetype": "text/x-python",
   "name": "python",
   "nbconvert_exporter": "python",
   "pygments_lexer": "ipython3",
   "version": "3.12.2"
  }
 },
 "nbformat": 4,
 "nbformat_minor": 5
}
